{
 "cells": [
  {
   "cell_type": "markdown",
   "metadata": {
    "slideshow": {
     "slide_type": "slide"
    }
   },
   "source": [
    "![Logo, Center's for Disease Control and Prevention](masthead_subpage.svg)\n",
    "\n",
    "# CDC WONDER API Example\n",
    "[CDC WONDER](https://wonder.cdc.gov/) is a query tool from the Centers for Disease Control (CDC) that provides access to a collection of online databases for the analysis of public health data. "
   ]
  },
  {
   "cell_type": "markdown",
   "metadata": {
    "slideshow": {
     "slide_type": "slide"
    }
   },
   "source": [
    "The following are a sampling of databases available through WONDER that provide vital statistics data through CDC's National Center for Health Statistics\n",
    "\n",
    "* [Births](https://wonder.cdc.gov/natality.html)\n",
    "* [Detailed Mortality](https://wonder.cdc.gov/ucd-icd10.html)\n",
    "* [Compressed Mortality](https://wonder.cdc.gov/mortSQL.html)\n",
    "* [Multiple cause of death](https://wonder.cdc.gov/mcd.html)\n",
    "* [Infant Deaths](https://wonder.cdc.gov/lbd.html)"
   ]
  },
  {
   "cell_type": "markdown",
   "metadata": {
    "slideshow": {
     "slide_type": "slide"
    }
   },
   "source": [
    "For this example, we will focus on the **Detailed Mortality** database, which provides counts or rates (crude or age-adjusted) for underlying cause of death at the national, state and county levels. Using the query tool, the user can select grouping and filtering variables that are use to generate a dataset. Results are provided as a data table which can then be exported to a tab delimited file or visualized.\n",
    "\n",
    "WONDER provides an API that allows the same queries to be issued through a POST request to WONDER's web server. Requesta and responses are issued in XML format and are detailed in the [API Documentation](https://wonder.cdc.gov/wonder/help/WONDER-API.html) page. "
   ]
  },
  {
   "cell_type": "markdown",
   "metadata": {
    "slideshow": {
     "slide_type": "slide"
    }
   },
   "source": [
    "Each XML request consists of a series of parameter tags with name and value children in the following format:\n",
    "\n",
    "```\n",
    "<request-parameters>\n",
    "    <parameter>\n",
    "        <name></name>\n",
    "        <value></value>\n",
    "    <parameter>\n",
    "    ...\n",
    "</request-parameters>\n",
    "```"
   ]
  },
  {
   "cell_type": "markdown",
   "metadata": {
    "slideshow": {
     "slide_type": "slide"
    }
   },
   "source": [
    "Available parameter names and values vary by database in WONDER. The [WONDER API Documentation](https://wonder.cdc.gov/wonder/help/WONDER-API.html) recommends viewing the HTML source for the web form in the query tool to access available parameter names and values. For convenience, parameter names and values are provided below."
   ]
  },
  {
   "cell_type": "markdown",
   "metadata": {
    "slideshow": {
     "slide_type": "slide"
    }
   },
   "source": [
    "## B - Group By Parameters\n",
    "\n",
    "Parameter Names:\n",
    "\n",
    "* B_1\n",
    "* B_2\n",
    "* B_3\n",
    "* B_4\n",
    "* B_5\n",
    "\n",
    "The following is a listing of available values for each parameter name in the format:\n",
    "\n",
    "`<value> - <description>`"
   ]
  },
  {
   "cell_type": "markdown",
   "metadata": {
    "slideshow": {
     "slide_type": "slide"
    }
   },
   "source": [
    "### Location\n",
    "* D76.V10-level1 - Census Region     \n",
    "* D76.V10-level2 - Census Division   \n",
    "* D76.V27-level1 - HHS Region        \n",
    "* D76.V9-level1 - State             \n",
    "* D76.V9-level2 - County            \n",
    "* D76.V19 - 2013 Urbanization \n",
    "* D76.V11 - 2006 Urbanization "
   ]
  },
  {
   "cell_type": "markdown",
   "metadata": {
    "slideshow": {
     "slide_type": "slide"
    }
   },
   "source": [
    "### Demographics\n",
    "* D76.V5 - Age Groups     \n",
    "* D76.V7 - Gender         \n",
    "* D76.V17 - Hispanic Origin\n",
    "* D76.V8 - Race           "
   ]
  },
  {
   "cell_type": "markdown",
   "metadata": {
    "slideshow": {
     "slide_type": "slide"
    }
   },
   "source": [
    "### Year and Month\n",
    "* D76.V1-level1  - Year           \n",
    "* D76.V1-level2  - Month          "
   ]
  },
  {
   "cell_type": "markdown",
   "metadata": {
    "slideshow": {
     "slide_type": "slide"
    }
   },
   "source": [
    "### Weekday, Autopsy, Place of Death\n",
    "* D76.V24 - Weekday                          \n",
    "* D76.V20 - Autopsy                          \n",
    "* D76.V21 - Place of Death                   "
   ]
  },
  {
   "cell_type": "markdown",
   "metadata": {
    "slideshow": {
     "slide_type": "slide"
    }
   },
   "source": [
    "### Cause of Death\n",
    "* D76.V28 - 15 Leading Causes of Death                       \n",
    "* D76.V29 - 15 Leading Causes of Death (Infants)             \n",
    "* D76.V2-level1 ICD - Chapter                                          \n",
    "* D76.V2-level2 ICD - Sub-Chapter                                      \n",
    "* D76.V2-level3 - Cause of death                                   \n",
    "* D76.V4 - ICD-10 113 Cause List                            \n",
    "* D76.V12 - ICD-10 130 Cause List (Infants)                  \n",
    "* D76.V22 - Injury Intent                                    \n",
    "* D76.V23 - Injury Mechanism &amp; All Other Leading Causes  \n",
    "* D76.V25 - Drug/Alcohol Induced Causes                      "
   ]
  },
  {
   "cell_type": "markdown",
   "metadata": {
    "slideshow": {
     "slide_type": "slide"
    }
   },
   "source": [
    "## M - Measure Parameters\n",
    "Deaths, Population and Crude Rate are included by default. Additional measures may be added and are included below:\n",
    "\n",
    "`<name> - <value> - <description>`\n",
    "\n",
    "* M_1  - D76.M1  - Deaths                                \n",
    "* M_2  - D76.M2  - Population                            \n",
    "* M_3  - D76.M3  - Crude Rate                            \n",
    "* M_31 - D76.M31 - Crude Rate Standard Error             \n",
    "* M_32 - D76.M32 - Crude 95% Confidence Interval         \n",
    "* M_4  - D76.M4  - Age-adjusted Rate                     \n",
    "* M_41 - D76.M41 - Age-adjusted Rate Standard Error      \n",
    "* M_42 - D76.M42 - Age-adjusted Rate Confidence Interval \n",
    "* M_9  - D76.M9  - Percent of Total Deaths               \n"
   ]
  },
  {
   "cell_type": "markdown",
   "metadata": {
    "slideshow": {
     "slide_type": "slide"
    }
   },
   "source": [
    "The *Detailed Mortality* database contains several variables that may take on one or more values and may be modified by F/I/V parameters\n",
    "* D76.V1 - Year and Month\n",
    "* D76.V10 - Census Regions\n",
    "* D76.V2 - ICD-10 Codes\n",
    "* D76.V27 - HHS Regions\n",
    "* D76.V9 - States and Counties"
   ]
  },
  {
   "cell_type": "markdown",
   "metadata": {
    "slideshow": {
     "slide_type": "slide"
    }
   },
   "source": [
    "### D76.V1 - Year and Month\n",
    "Available years in the **Detailed Mortality** database run from 1999 through 2015. Values for F/I/V parameters (F_D76.V1, I_D76.V1, V_D76.V1) follow this format:\n",
    "* F - `<year1> <year2>`  \n",
    "  * Example: \"2009 2010\"\n",
    "* I - `<year> (<year>)`\n",
    "  * Example: \"2009 (2009) 2010 (2010)\"\n",
    "* V - `<year> (<year>)`\n",
    "  * Example: \"2009 (2009) 2010 (2010)\"\n",
    "\n",
    "With month included, the following format is used (Month names map to two digit codes)\n",
    "* F - `<year1>/<month1> <year2>/<month2>`\n",
    "  * Example: \"2009/01 2009/02\"\n",
    "* I - `<year1>/<month1> (<month1 abbrev>., <year 1>) <year2>/<month2> (<month2 abbrev>., <year 2>)` \n",
    "  * Example: \"2009/01 (Jan., 2009) 2010/02 (Feb., 2010)\"\n",
    "* V - `<year1>/<month1> (<month1 abbrev>., <year 1>) <year2>/<month2> (<month2 abbrev>., <year 2>)`\n",
    "  * Example: \"2009/01 (Jan., 2009) 2010/02 (Feb., 2010)\"\n",
    "\n",
    "To include all dates:\n",
    "* F - `*All*`\n",
    "* I - `*All* (All Dates)`\n",
    "* V - `*All* (All Dates)`"
   ]
  },
  {
   "cell_type": "markdown",
   "metadata": {
    "slideshow": {
     "slide_type": "slide"
    }
   },
   "source": [
    "### D76.V10 - Census Regions\n",
    "In keeping with the vital statistics policy for public data sharing, only national data are available for query by the API. Queries for mortality and births statistics from the National Vital Statistics System cannot limit or group results by any location field, such as Region, Division, State or County, or Urbanization (urbanization categories map to specific geographic counties).\n",
    "\n",
    "* F_D76.V10 - \"`*All*`\"\n",
    "* I_D76.V10 - \"`*All* (The United States)`\"\n",
    "* V_D76.V10 - \"\""
   ]
  },
  {
   "cell_type": "markdown",
   "metadata": {
    "slideshow": {
     "slide_type": "slide"
    }
   },
   "source": [
    "## D76.V2 - ICD-10 Codes\n",
    "* \\*All\\* - \\*All\\*  (All Causes of Death)\n",
    "* A00-B99 - A00-B99  (Certain infectious and parasitic diseases)  \n",
    "* C00-D48 - C00-D48  (Neoplasms)  \n",
    "* D50-D89 - D50-D89  (Diseases of the blood and blood-forming organs and certain disorders involving the immune mechanism) \n",
    "* E00-E88 - E00-E88  (Endocrine, nutritional and metabolic diseases)  \n",
    "* F01-F99 - F01-F99  (Mental and behavioural disorders)  \n",
    "* G00-G98 - G00-G98  (Diseases of the nervous system)  \n",
    "* H00-H57 - H00-H57  (Diseases of the eye and adnexa)  \n",
    "* H60-H93 - H60-H93  (Diseases of the ear and mastoid process)  \n",
    "* I00-I99 - I00-I99  (Diseases of the circulatory system)  \n",
    "* J00-J98 - J00-J98  (Diseases of the respiratory system)  \n",
    "* K00-K92 - K00-K92  (Diseases of the digestive system)  \n",
    "* L00-L98 - L00-L98  (Diseases of the skin and subcutaneous tissue)  \n",
    "* M00-M99 - M00-M99  (Diseases of the musculoskeletal system and connective tissue)  \n",
    "* N00-N98 - N00-N98  (Diseases of the genitourinary system)  \n",
    "* O00-O99 - O00-O99  (Pregnancy, childbirth and the puerperium)  \n",
    "* P00-P96 - P00-P96  (Certain conditions originating in the perinatal period)  \n",
    "* Q00-Q99 - Q00-Q99  (Congenital malformations, deformations and chromosomal abnormalities)  \n",
    "* R00-R99 - R00-R99  (Symptoms, signs and abnormal clinical and laboratory findings, not elsewhere classified)  \n",
    "* U00-U99 - U00-U99  (Codes for special purposes)  \n",
    "* V01-Y89 - V01-Y89  (External causes of morbidity and mortality)"
   ]
  },
  {
   "cell_type": "markdown",
   "metadata": {
    "slideshow": {
     "slide_type": "slide"
    }
   },
   "source": [
    "### D76.V27 - HHS Regions\n",
    "In keeping with the vital statistics policy for public data sharing, only national data are available for query by the API. Queries for mortality and births statistics from the National Vital Statistics System cannot limit or group results by any location field, such as Region, Division, State or County, or Urbanization (urbanization categories map to specific geographic counties).\n",
    "\n",
    "* F_D76.V27 - \"`*All*`\"\n",
    "* I_D76.V27 - \"`*All* (The United States)`\"\n",
    "* V_D76.V27 - \"\""
   ]
  },
  {
   "cell_type": "markdown",
   "metadata": {
    "slideshow": {
     "slide_type": "slide"
    }
   },
   "source": [
    "### D76.V9 - State and County Codes\n",
    "In keeping with the vital statistics policy for public data sharing, only national data are available for query by the API. Queries for mortality and births statistics from the National Vital Statistics System cannot limit or group results by any location field, such as Region, Division, State or County, or Urbanization (urbanization categories map to specific geographic counties).\n",
    "\n",
    "* F_D76.V9 - \"`*All*`\"\n",
    "* I_D76.V9 - \"`*All* (The United States)`\"\n",
    "* V_D76.V9 - \"\""
   ]
  },
  {
   "cell_type": "markdown",
   "metadata": {
    "slideshow": {
     "slide_type": "slide"
    }
   },
   "source": [
    "## O - Other Parameters\n",
    "\n",
    "\n",
    "* O_V10_fmode - Controls whether Census Regions pulls from regular (F_) or advanced finder (V_) parameters\n",
    "  * freg | fadv\n",
    "* O_V1_fmode - Controls whether Year and Month pulls from regular (F_) or advanced finder (V_) parameters\n",
    "  * freg | fadv\n",
    "* O_V27_fmode - Controls whether HHS Regions pulls from regular (F_) or advanced finder (V_) parameters\n",
    "  * freg | fadv\n",
    "* O_V2_fmode - Controls whether ICD Code pulls from regular (F_) or advanced finder (V_) parameters\n",
    "  * freg | fadv\n",
    "* O_V9_fmode - Controls whether State/County pulls from regular (F_) or advanced finder (V_) parameters\n",
    "  * freg | fadv\n",
    "* O_aar\n",
    "  * aar_none | aar_std | aar_nonstd\n",
    "* O_aar_enable - Enable Age Adjusted Rate options. Set to true to allow for confidence interval and standard error options\n",
    "  * true | false\n",
    "* O_aar_CI - age adjusted rate 95% confidence interval\n",
    "  * true | false \n",
    "* O_aar_SE - age adjusted rate standard error\n",
    "  * true | false\n",
    "* O_age\n",
    "  * D76.V5 - Ten-Year Age Groups\n",
    "  * D76.V51 - Five-Year Age Groups\n",
    "  * D76.V52 - Single-Year Age Groups\n",
    "  * D76.V6 - Infant Age Groups\n",
    "* O_title - description to display as a title with your results.\n",
    "* O_rate_per - calculate rates per X people\n",
    "  * 1000 | 10000 | 100000 | 1000000\n",
    "* O_post_pops - Use archive rates (calculated with postcensal populations for 2001-2009)\n",
    "  * true | false\n",
    "* O_aar_nonstd - Use non-standard rates. If true, supply values for VM variables\n",
    "  * true | false\n",
    "* O_aar_pop - The year \"2000 U.S. standard\" is the default population selection for the calculation of age-adjusted rates. However, you can select other standard populations, or select specific population criteria to determine the age distribution ratios.\n",
    "  * 0000 - 2000 U.S. Std Population\n",
    "  * 1940 - 1940 U.S. Std Million\n",
    "  * 1970 - 1970 U.S. Std Million\n",
    "  * 2000 - 2000 U.S. Std Million\n",
    "* O_location - \n",
    "  * D76.V9 - States\n",
    "  * D76.V10 - Census Regions\n",
    "  * D76.V27 - HHS Regions\n",
    "* O_javascript - Turn on if javascript is enabled. Default is off\n",
    "  * off | on\n",
    "* O_ucd - set which field to use for underlying cause of death\n",
    "  * D76.V2 - ICD-10 Codes\n",
    "  * D76.V12 - ICD-10 130 Cause List (Infants)\n",
    "  * D76.V25 - Drug/Alcohol Induced Causes\n",
    "  * D76.V4 - ICD-10 113 Cause List\n",
    "  * D76.V22 - Injury Intent and Mechanism\n",
    "* O_urban\n",
    "  * D76.V19 - 2013 Urbanization\n",
    "  * D76.V11 - 2006 Urbanization\n",
    "* O_show_totals - show totals\n",
    "  * true | false\n",
    "* O_show_zeros - show zero values\n",
    "  * true | false\n",
    "* O_show_suppressed - show suppressed values\n",
    "  * true | false\n",
    "* O_precision - number of decimal places\n",
    "  * `<number between 0 and 9, inclusive>`\n",
    "* O_timeout - data access timeout in minutes\n",
    "  * 60 - 1 minute\n",
    "  * 120 - 2 minutes\n",
    "  * 180 - 3 minutes\n",
    "  * 240 - 4 minutes\n",
    "  * 300 - 5 minutes\n",
    "  * 360 - 6 minutes\n",
    "  * 420 - 7 minutes\n",
    "  * 480 - 8 minutes\n",
    "  * 540 - 9 minutes\n",
    "  * 600 - 10 minutes\n",
    "  * 660 - 11 minutes\n",
    "  * 720 - 12 minutes\n",
    "  * 780 - 13 minutes\n",
    "  * 840 - 14 minutes\n",
    "  * 900 - 15 minutes"
   ]
  },
  {
   "cell_type": "markdown",
   "metadata": {
    "slideshow": {
     "slide_type": "slide"
    }
   },
   "source": [
    "## VM - Values for non-standard age adjusted rates\n",
    "* Year - VM_D76.M6_D76.V1_S - *All* | list of years from 1999-2015 (inclusive)\n",
    "* Gender - VM_D76.M6_D76.V7\n",
    "  * F - Female\n",
    "  * M - Male\n",
    "* Hispanic Origin - VM_D76.M6_D76.V17\n",
    "  * \\*All\\* - All Origins\n",
    "  * 2135-2 - Hispanic or Latino\n",
    "  * 2186-2 - Not Hispanic or Latino\n",
    "  * NS - Not Stated\n",
    "* Race - VM_D76.M6_D76.V8\n",
    "  * \\*All\\* - All Races\n",
    "  * 1002-5 - American Indian or Alaska Native\n",
    "  * A-PI - Asian or Pacific Islander\n",
    "  * 2054-5 - Black or African American\n",
    "  * 2106-3 - White\n",
    "* Location - VM_D76.M6_D76.V10\n"
   ]
  },
  {
   "cell_type": "markdown",
   "metadata": {
    "slideshow": {
     "slide_type": "slide"
    }
   },
   "source": [
    "## V - Variable Values\n",
    "Variable values to limit in the \"where\" clause of the query, found in multiple select list boxes and advanced finder text entry boxes in the \"Request Form.\"\n",
    "\n",
    "* V_D76.V19 - 2013 Urbanization\n",
    "  * \\*All\\* - All Categories\n",
    "  * 1 - Large Central Metro\n",
    "  * 2 - Large Fringe Metro\n",
    "  * 3 - Medium Metro\n",
    "  * 4 - Small Metro\n",
    "  * 5 - Micropolitan (non-metro)\n",
    "  * 6 - NonCore (non-metro)\n",
    "* V_D76.V11 - 2006 Urbanization\n",
    "  * \\*All\\* - All Categories\n",
    "  * 1 - Large Central Metro\n",
    "  * 2 - Large Fringe Metro\n",
    "  * 3 - Medium Metro\n",
    "  * 4 - Small Metro\n",
    "  * 5 - Micropolitan (non-metro)\n",
    "  * 6 - NonCore (non-metro)\n",
    "* V_D76.V5 - Ten-Year Age Groups\n",
    "  * \\*All\\* - All Ages\n",
    "  * 1 - < 1 year\n",
    "  * 1-4 - 1-4 years\n",
    "  * 5-14 - 5-14 years\n",
    "  * 15-24 - 15-24 years\n",
    "  * 25-34 - 25-34 years\n",
    "  * 35-44 - 35-44 years\n",
    "  * 45-54 - 45-54 years\n",
    "  * 55-64 - 55-64 years\n",
    "  * 65-74 - 65-74 years\n",
    "  * 75-84 - 75-84 years\n",
    "  * 85+ - 85+ years\n",
    "  * NS - Not Stated\n",
    "* V_D76.V51 - Five-Year Age Groups\n",
    "  * \\*All\\* - All Ages\n",
    "  * 1 - < 1 year\n",
    "  * 1-4 - 1-4 years\n",
    "  * 5-9 - 5-9 years\n",
    "  * 10-14 - 10-14 years\n",
    "  * 15-19 - 15-19 years\n",
    "  * 20-24 - 20-24 years\n",
    "  * 25-29 - 25-29 years\n",
    "  * 30-34 - 30-34 years\n",
    "  * 35-39 - 35-39 years\n",
    "  * 40-44 - 40-44 years\n",
    "  * 45-49 - 45-49 years\n",
    "  * 50-54 - 50-54 years\n",
    "  * 55-59 - 55-59 years\n",
    "  * 60-64 - 60-64 years \n",
    "  * 65-69 - 65-69 years\n",
    "  * 70-74 - 70-74 years\n",
    "  * 75-79 - 75-79 years\n",
    "  * 80-84 - 80-84 years\n",
    "  * 85-89 - 85-89 years\n",
    "  * 90-94 - 90-94 years\n",
    "  * 95-99 - 95-99 years\n",
    "  * 100+ - 100+ years\n",
    "  * NS - Not Stated\n",
    "* V_D76.V52 - Single-Year Age Groups\n",
    "  * 0 - < 1 year\n",
    "  * `<Number between 1 and 99>`\n",
    "  * 100 - 100+ years\n",
    "  * NS - Not Stated\n",
    "* V_D76.V6 - Infant Age Groups\n",
    "  * 00 - All Infant Ages\n",
    "  * 1d - < 1 day\n",
    "  * 1-6d - 1-6 days\n",
    "  * 7-27d - 7-27 days\n",
    "  * 28-364d - 28-364 days\n",
    "* V_D76.V7 - Gender\n",
    "  * F - Female\n",
    "  * M - Male\n",
    "* V_D76.V17 - Hispanic Origin\n",
    "  * \\*All\\* - All Origins\n",
    "  * 2135-2 - Hispanic or Latino\n",
    "  * 2186-2 - Not Hispanic or Latino\n",
    "  * NS - Not Stated\n",
    "* V_D76.V8 - Race\n",
    "  * \\*All\\* - All Races\n",
    "  * 1002-5 - American Indian or Alaska Native\n",
    "  * A-PI - Asian or Pacific Islander\n",
    "  * 2054-5 - Black or African American\n",
    "  * 2106-3 - White\n",
    "* V_D76.V24 - Weekday\n",
    "  * \\*All\\* - All Weekdays\n",
    "  * 1 - Sunday\n",
    "  * 2 - Monday\n",
    "  * 3 - Tuesday\n",
    "  * 4 - Wednesday\n",
    "  * 5 - Thursday\n",
    "  * 6 - Friday\n",
    "  * 7 - Saturday\n",
    "  * 9 - Unknown\n",
    "* V_D76.V20 - Autopsy\n",
    "  * \\*All\\* - All Values\n",
    "  * N - No\n",
    "  * Y - Yes\n",
    "  * U - Unknown\n",
    "* V_D76.V21 - Place of Death\n",
    "  * \\*All\\* - All Places\n",
    "  * 1 - Medical Facility - Inpatient\n",
    "  * 2 - Medical Facility - Outpatient or ER\n",
    "  * 3 - Medical Facility - Dead on Arrival\n",
    "  * 10 - Medical Facility - Status unknown\n",
    "  * 4 - Decedent's home\n",
    "  * 5 - Hospice facility\n",
    "  * 6 - Nursing home/long term care\n",
    "  * 7 - Other\n",
    "  * 9 - Place of death unknown"
   ]
  },
  {
   "cell_type": "markdown",
   "metadata": {
    "slideshow": {
     "slide_type": "slide"
    }
   },
   "source": [
    "## Miscellaneous Parameters\n",
    "The following parameters should be included using the below name/value pairs.\n",
    "\n",
    "* action-Send - Send\n",
    "* finder-stage-D76.V1 - codeset\n",
    "* finder-stage-D76.V1 - codeset\n",
    "* finder-stage-D76.V2 - codeset\n",
    "* finder-stage-D76.V27 - codeset\n",
    "* finder-stage-D76.V9 - codeset\n",
    "* stage - request\n"
   ]
  }
 ],
 "metadata": {
  "celltoolbar": "Slideshow",
  "kernelspec": {
   "display_name": "Python 3",
   "language": "python",
   "name": "python3"
  },
  "language_info": {
   "codemirror_mode": {
    "name": "ipython",
    "version": 3
   },
   "file_extension": ".py",
   "mimetype": "text/x-python",
   "name": "python",
   "nbconvert_exporter": "python",
   "pygments_lexer": "ipython3",
   "version": "3.5.2"
  },
  "varInspector": {
   "cols": {
    "lenName": 16,
    "lenType": 16,
    "lenVar": 40
   },
   "kernels_config": {
    "python": {
     "delete_cmd_postfix": "",
     "delete_cmd_prefix": "del ",
     "library": "var_list.py",
     "varRefreshCmd": "print(var_dic_list())"
    },
    "r": {
     "delete_cmd_postfix": ") ",
     "delete_cmd_prefix": "rm(",
     "library": "var_list.r",
     "varRefreshCmd": "cat(var_dic_list()) "
    }
   },
   "types_to_exclude": [
    "module",
    "function",
    "builtin_function_or_method",
    "instance",
    "_Feature"
   ],
   "window_display": false
  }
 },
 "nbformat": 4,
 "nbformat_minor": 2
}
